{
 "cells": [
  {
   "cell_type": "code",
   "execution_count": 48,
   "metadata": {},
   "outputs": [
    {
     "name": "stdout",
     "output_type": "stream",
     "text": [
      "The autoreload extension is already loaded. To reload it, use:\n",
      "  %reload_ext autoreload\n"
     ]
    },
    {
     "data": {
      "text/plain": [
       "<torch._C.Generator at 0x7238c1c388b0>"
      ]
     },
     "execution_count": 48,
     "metadata": {},
     "output_type": "execute_result"
    }
   ],
   "source": [
    "#Import librairies\n",
    "import cv2\n",
    "import dlib \n",
    "import numpy as np\n",
    "import os \n",
    "import matplotlib.pyplot as plt\n",
    "from tqdm import tqdm\n",
    "import copy\n",
    "import matplotlib\n",
    "import matplotlib.pyplot as plt\n",
    "import numpy as np\n",
    "import torch.nn as nn\n",
    "import torch.nn.functional as F\n",
    "from PIL import Image\n",
    "import torch\n",
    "from tqdm import tqdm\n",
    "from typing import Optional, Callable\n",
    "from sklearn.metrics import accuracy_score, f1_score\n",
    "from sklearn.covariance import LedoitWolf\n",
    "import json\n",
    "from collections.abc import Mapping\n",
    "from torchvision.transforms import v2\n",
    "import pandas as pd\n",
    "# from image_segmentation import *\n",
    "%load_ext autoreload\n",
    "%autoreload 2\n",
    "torch.manual_seed(0)"
   ]
  },
  {
   "cell_type": "code",
   "execution_count": 49,
   "metadata": {},
   "outputs": [],
   "source": [
    "file_name = r\"./coin-detector-model/coin-detector-2.svm\"\n",
    "detector = dlib.simple_object_detector(file_name)"
   ]
  },
  {
   "cell_type": "code",
   "execution_count": 52,
   "metadata": {},
   "outputs": [
    {
     "name": "stderr",
     "output_type": "stream",
     "text": [
      "100%|██████████| 162/162 [07:20<00:00,  2.72s/it]"
     ]
    },
    {
     "name": "stdout",
     "output_type": "stream",
     "text": [
      "Creating csv file...\n"
     ]
    },
    {
     "name": "stderr",
     "output_type": "stream",
     "text": [
      "\n"
     ]
    }
   ],
   "source": [
    "from PIL import Image\n",
    "from model import ResNetModel\n",
    "possible_value = [\"5CHF\", \"2CHF\", \"1CHF\", \"0.5CHF\", \"0.2CHF\", \"0.1CHF\", \"0.05CHF\", \"2EUR\", \"1EUR\", \"0.5EUR\", \"0.2EUR\", \"0.1EUR\", \"0.05EUR\", \"0.02EUR\", \"0.01EUR\", \"OOD\"]\n",
    "test_folder = r\"./data/test/\"\n",
    "valid_extensions = ('.jpg')\n",
    "device = torch.device(\"cpu\" if torch.cuda.is_available() else \"cpu\")\n",
    "model = ResNetModel()\n",
    "model.load_state_dict(torch.load(r\"./model/model.pth\"))\n",
    "model.eval()\n",
    "transform = v2.Compose([\n",
    "    v2.Resize(224),\n",
    "    v2.CenterCrop(224),\n",
    "    v2.ToTensor(),\n",
    "    v2.Normalize(mean=[0.485, 0.456, 0.406], std=[0.229, 0.224, 0.225])\n",
    "])\n",
    "file_list = os.listdir(test_folder)\n",
    "image_files = [f for f in file_list if f.lower().endswith(valid_extensions)]\n",
    "\n",
    "final_count = []\n",
    "\n",
    "image_files = sorted(image_files)\n",
    "\n",
    "for image_file in tqdm(image_files):\n",
    "    answer = {}\n",
    "    coins = []\n",
    "    image_path = os.path.join(test_folder, image_file)\n",
    "    image = cv2.imread(image_path)\n",
    "    image_name = image_file.removesuffix(\".JPG\")\n",
    "    if image is None:\n",
    "        print(f\"Failed to load {image_file}\")\n",
    "        continue\n",
    "    \n",
    "    detected_im = detector(image)\n",
    "    pathes = []\n",
    "    coins = []\n",
    "    image = Image.open(image_path)\n",
    "    for i, detect_test in enumerate(detected_im):\n",
    "        img_rgb = image\n",
    "        d_box = detect_test\n",
    "        coins.append(image.crop((d_box.left(), d_box.top(), d_box.right(), d_box.bottom())))\n",
    "    answer[\"id\"] = image_name\n",
    "    for i in range(16):\n",
    "        answer[possible_value[i]] = 0\n",
    "\n",
    "    for c in coins:\n",
    "        with torch.no_grad():\n",
    "            coin_input = transform(c).unsqueeze(0).to(device)\n",
    "            output = model(coin_input)\n",
    "            res = output.argmax()\n",
    "            answer[possible_value[res.item()]] += 1\n",
    "    final_count.append(answer)\n",
    "\n",
    "print(\"Creating csv file...\")\n",
    "\n",
    "pandas_df = pd.DataFrame(final_count)\n",
    "pandas_df.to_csv(r\"./data/test-predictions.csv\", index=False)\n",
    "\n"
   ]
  },
  {
   "cell_type": "code",
   "execution_count": 53,
   "metadata": {},
   "outputs": [
    {
     "name": "stdout",
     "output_type": "stream",
     "text": [
      "Error for L1010279 for 2CHF label: 1 prediction: 0\n",
      "\n",
      "Error for L1010279 for 1CHF label: 0 prediction: 1\n",
      "\n",
      "Error for L1010287 for 2CHF label: 1 prediction: 0\n",
      "\n",
      "Error for L1010287 for 0.5CHF label: 0 prediction: 1\n",
      "\n",
      "Error for L1010294 for 0.2CHF label: 0 prediction: 1\n",
      "\n",
      "Error for L1010294 for 0.1CHF label: 1 prediction: 0\n",
      "\n",
      "Error for L1010298 for 2CHF label: 2 prediction: 3\n",
      "\n",
      "Error for L1010298 for 0.5CHF label: 2 prediction: 1\n",
      "\n",
      "Error for L1010341 for 1CHF label: 2 prediction: 1\n",
      "\n",
      "Error for L1010341 for 0.5CHF label: 0 prediction: 1\n",
      "\n",
      "Error for L1010370 for 0.2CHF label: 1 prediction: 2\n",
      "\n",
      "Error for L1010370 for 0.1CHF label: 2 prediction: 1\n",
      "\n",
      "Error for L1010383 for 5CHF label: 0 prediction: 1\n",
      "\n",
      "Error for L1010383 for 0.1CHF label: 1 prediction: 0\n",
      "\n",
      "Error for L1010390 for 1CHF label: 0 prediction: 1\n",
      "\n",
      "Error for L1010390 for 0.5CHF label: 1 prediction: 0\n",
      "\n",
      "Error for L1010395 for 1CHF label: 0 prediction: 1\n",
      "\n",
      "Error for L1010395 for 0.5CHF label: 1 prediction: 0\n",
      "\n",
      "Error for L1010421 for 1CHF label: 1 prediction: 0\n",
      "\n",
      "Error for L1010421 for 0.5CHF label: 0 prediction: 1\n",
      "\n",
      "Error for L1010424 for 0.2CHF label: 0 prediction: 1\n",
      "\n",
      "Error for L1010424 for 0.1CHF label: 1 prediction: 0\n",
      "\n",
      "Error for L1010446 for 5CHF label: 0 prediction: 1\n",
      "\n",
      "Error for L1010446 for OOD label: 2 prediction: 1\n",
      "\n",
      "Error for L1010462 for 0.1EUR label: 0 prediction: 1\n",
      "\n",
      "Error for L1010462 for OOD label: 2 prediction: 1\n",
      "\n",
      "Error for L1010478 for 2CHF label: 1 prediction: 0\n",
      "\n",
      "Error for L1010478 for 0.5CHF label: 0 prediction: 1\n",
      "\n",
      "Error for L1010485 for 0.2CHF label: 0 prediction: 1\n",
      "\n",
      "Error for L1010485 for 0.1CHF label: 1 prediction: 0\n",
      "\n"
     ]
    }
   ],
   "source": [
    "# Compare prediction with labels\n",
    "labels = pd.read_csv(r\"./data/train_labels.csv\")\n",
    "labels = labels.sort_values(by=\"id\")\n",
    "predictions = pd.read_csv(r\"./data/train-predictions.csv\")\n",
    "predictions = predictions.sort_values(by=\"id\")\n",
    "for id in labels[\"id\"]:\n",
    "    label = labels[labels[\"id\"] == id]\n",
    "    prediction = predictions[predictions[\"id\"] == id]\n",
    "    for c in possible_value:\n",
    "        if label[c].values[0] != prediction[c].values[0]:\n",
    "            print(f\"Error for {id} for {c} label: {label[c].values[0]} prediction: {prediction[c].values[0]}\")\n",
    "            print(\"\")"
   ]
  },
  {
   "cell_type": "code",
   "execution_count": null,
   "metadata": {},
   "outputs": [],
   "source": []
  }
 ],
 "metadata": {
  "kernelspec": {
   "display_name": "base",
   "language": "python",
   "name": "python3"
  },
  "language_info": {
   "codemirror_mode": {
    "name": "ipython",
    "version": 3
   },
   "file_extension": ".py",
   "mimetype": "text/x-python",
   "name": "python",
   "nbconvert_exporter": "python",
   "pygments_lexer": "ipython3",
   "version": "3.9.18"
  }
 },
 "nbformat": 4,
 "nbformat_minor": 2
}
