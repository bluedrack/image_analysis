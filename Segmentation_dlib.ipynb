{
 "cells": [
  {
   "cell_type": "code",
   "execution_count": 9,
   "metadata": {},
   "outputs": [],
   "source": [
    "#Import librairies\n",
    "import cv2\n",
    "import dlib \n",
    "import numpy as np\n",
    "import os \n",
    "import matplotlib.pyplot as plt"
   ]
  },
  {
   "cell_type": "code",
   "execution_count": 3,
   "metadata": {},
   "outputs": [],
   "source": [
    "file_name = r\"C:\\Users\\USER\\Downloads\\Coin_Detector_2.svm\"\n",
    "detector = dlib.simple_object_detector(file_name)"
   ]
  },
  {
   "cell_type": "code",
   "execution_count": 13,
   "metadata": {},
   "outputs": [],
   "source": [
    "test_folder = r\"C:\\Users\\USER\\Documents\\Dataset_coins\\subfolder_test\"\n",
    "valid_extensions = ('.jpg')\n",
    "\n",
    "file_list = os.listdir(test_folder)\n",
    "image_files = [f for f in file_list if f.lower().endswith(valid_extensions)]\n",
    "\n",
    "for image_file in image_files:\n",
    "    coin = []\n",
    "    image_path = os.path.join(test_folder, image_file)\n",
    "    image = cv2.imread(image_path)\n",
    "    \n",
    "    if image is None:\n",
    "        print(f\"Failed to load {image_file}\")\n",
    "        continue\n",
    "\n",
    "    detected_im = detector(image)\n",
    "    for i, detect_test in enumerate(detected_im):\n",
    "        img_rgb = cv2.cvtColor(image, cv2.COLOR_BGR2RGB)\n",
    "        d_box = detect_test\n",
    "        coin.append(img_rgb[d_box.top()-15:d_box.bottom()+15, d_box.left()-15:d_box.right()+15]) #expand Bbox"
   ]
  }
 ],
 "metadata": {
  "kernelspec": {
   "display_name": "base",
   "language": "python",
   "name": "python3"
  },
  "language_info": {
   "codemirror_mode": {
    "name": "ipython",
    "version": 3
   },
   "file_extension": ".py",
   "mimetype": "text/x-python",
   "name": "python",
   "nbconvert_exporter": "python",
   "pygments_lexer": "ipython3",
   "version": "3.10.9"
  }
 },
 "nbformat": 4,
 "nbformat_minor": 2
}
