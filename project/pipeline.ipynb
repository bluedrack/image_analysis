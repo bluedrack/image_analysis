{
 "cells": [
  {
   "cell_type": "code",
   "execution_count": 21,
   "metadata": {},
   "outputs": [
    {
     "name": "stdout",
     "output_type": "stream",
     "text": [
      "The autoreload extension is already loaded. To reload it, use:\n",
      "  %reload_ext autoreload\n"
     ]
    },
    {
     "data": {
      "text/plain": [
       "<torch._C.Generator at 0x70d81ea63130>"
      ]
     },
     "execution_count": 21,
     "metadata": {},
     "output_type": "execute_result"
    }
   ],
   "source": [
    "#Import librairies\n",
    "import cv2\n",
    "import dlib \n",
    "import numpy as np\n",
    "import os \n",
    "import matplotlib.pyplot as plt\n",
    "from tqdm import tqdm\n",
    "import copy\n",
    "import matplotlib\n",
    "import matplotlib.pyplot as plt\n",
    "import numpy as np\n",
    "import torch.nn as nn\n",
    "import torch.nn.functional as F\n",
    "from PIL import Image\n",
    "import torch\n",
    "from tqdm import tqdm\n",
    "from typing import Optional, Callable\n",
    "from sklearn.metrics import accuracy_score, f1_score\n",
    "from sklearn.covariance import LedoitWolf\n",
    "import json\n",
    "from collections.abc import Mapping\n",
    "from torchvision.transforms import v2\n",
    "import pandas as pd\n",
    "%load_ext autoreload\n",
    "%autoreload 2\n",
    "torch.manual_seed(0)"
   ]
  },
  {
   "cell_type": "code",
   "execution_count": 22,
   "metadata": {},
   "outputs": [],
   "source": [
    "file_name = r\"./coin-detector-model/coin-detector-2.svm\"\n",
    "detector = dlib.simple_object_detector(file_name)"
   ]
  },
  {
   "cell_type": "code",
   "execution_count": 23,
   "metadata": {},
   "outputs": [
    {
     "name": "stderr",
     "output_type": "stream",
     "text": [
      "  0%|          | 0/162 [00:00<?, ?it/s]"
     ]
    },
    {
     "name": "stdout",
     "output_type": "stream",
     "text": [
      "L0000045\n"
     ]
    },
    {
     "name": "stderr",
     "output_type": "stream",
     "text": [
      "  0%|          | 0/162 [00:03<?, ?it/s]"
     ]
    },
    {
     "name": "stdout",
     "output_type": "stream",
     "text": [
      "Creating csv file...\n",
      "[{'id': 'L0000045', '5CHF': 1, '2CHF': 1, '1CHF': 0, '0.5CHF': 0, '0.2CHF': 0, '0.1CHF': 2, '0.05CHF': 0, '2EUR': 1, '1EUR': 0, '0.5EUR': 1, '0.2EUR': 2, '0.1EUR': 0, '0.05EUR': 0, '0.02EUR': 0, '0.01EUR': 0, 'ODD': 0}]\n"
     ]
    },
    {
     "name": "stderr",
     "output_type": "stream",
     "text": [
      "\n"
     ]
    }
   ],
   "source": [
    "possible_value = [\"5CHF\", \"2CHF\", \"1CHF\", \"0.5CHF\", \"0.2CHF\", \"0.1CHF\", \"0.05CHF\", \"2EUR\", \"1EUR\", \"0.5EUR\", \"0.2EUR\", \"0.1EUR\", \"0.05EUR\", \"0.02EUR\", \"0.01EUR\", \"ODD\"]\n",
    "test_folder = r\"./data/test/\"\n",
    "valid_extensions = ('.jpg')\n",
    "device = torch.device(\"gpu\" if torch.cuda.is_available() else \"cpu\")\n",
    "model = torch.load(r\"./model/model.pth\", map_location=device)\n",
    "model.eval()\n",
    "\n",
    "file_list = os.listdir(test_folder)\n",
    "image_files = [f for f in file_list if f.lower().endswith(valid_extensions)]\n",
    "\n",
    "final_count = []\n",
    "\n",
    "for image_file in tqdm(image_files):\n",
    "    answer = {}\n",
    "    coins = []\n",
    "    image_path = os.path.join(test_folder, image_file)\n",
    "    image = cv2.imread(image_path)\n",
    "    print(image_file.removesuffix(\".JPG\"))\n",
    "    image_name = image_file.removesuffix(\".JPG\")\n",
    "    if image is None:\n",
    "        print(f\"Failed to load {image_file}\")\n",
    "        continue\n",
    "    \n",
    "    detected_im = detector(image)\n",
    "    for i, detect_test in enumerate(detected_im):\n",
    "        img_rgb = cv2.cvtColor(image, cv2.COLOR_BGR2RGB)\n",
    "        d_box = detect_test\n",
    "        coins.append(img_rgb[d_box.top()-15:d_box.bottom()+15, d_box.left()-15:d_box.right()+15]) #expand Bbox\n",
    "    coin_count = {}\n",
    "    answer[\"id\"] = image_name\n",
    "    for i in range(16):\n",
    "        answer[possible_value[i]] = 0\n",
    "\n",
    "    for c in coins:\n",
    "        if(c.shape[0] == 0 or c.shape[1] == 0):\n",
    "            continue\n",
    "        c = torch.tensor(c, dtype=torch.float32).permute(2, 0, 1).unsqueeze(0)\n",
    "        transform = v2.Compose([\n",
    "            v2.Resize(224),\n",
    "            v2.CenterCrop(224),\n",
    "            v2.ToTensor(),\n",
    "            v2.Normalize(mean=[0.485, 0.456, 0.406], std=[0.229, 0.224, 0.225])\n",
    "        ])\n",
    "        \n",
    "        with torch.no_grad():\n",
    "            c = transform(c)\n",
    "            output = model(c)\n",
    "            res = output.argmax()\n",
    "            answer[possible_value[res.item()]] += 1\n",
    "    final_count.append(answer)\n",
    "\n",
    "print(\"Creating csv file...\")\n",
    "print(final_count)\n",
    "pandas_df = pd.DataFrame(final_count)\n",
    "pandas_df.to_csv(r\"./data/predictions.csv\", index=False, header=csv_header)\n",
    "\n"
   ]
  },
  {
   "cell_type": "code",
   "execution_count": null,
   "metadata": {},
   "outputs": [],
   "source": []
  }
 ],
 "metadata": {
  "kernelspec": {
   "display_name": "base",
   "language": "python",
   "name": "python3"
  },
  "language_info": {
   "codemirror_mode": {
    "name": "ipython",
    "version": 3
   },
   "file_extension": ".py",
   "mimetype": "text/x-python",
   "name": "python",
   "nbconvert_exporter": "python",
   "pygments_lexer": "ipython3",
   "version": "3.9.18"
  }
 },
 "nbformat": 4,
 "nbformat_minor": 2
}
