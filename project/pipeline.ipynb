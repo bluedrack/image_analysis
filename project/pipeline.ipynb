{
 "cells": [
  {
   "cell_type": "code",
   "execution_count": 20,
   "metadata": {},
   "outputs": [
    {
     "name": "stdout",
     "output_type": "stream",
     "text": [
      "The autoreload extension is already loaded. To reload it, use:\n",
      "  %reload_ext autoreload\n"
     ]
    },
    {
     "data": {
      "text/plain": [
       "<torch._C.Generator at 0x77d622aa2150>"
      ]
     },
     "execution_count": 20,
     "metadata": {},
     "output_type": "execute_result"
    }
   ],
   "source": [
    "#Import librairies\n",
    "import cv2\n",
    "import dlib \n",
    "import numpy as np\n",
    "import os \n",
    "import matplotlib.pyplot as plt\n",
    "from tqdm import tqdm\n",
    "import copy\n",
    "import matplotlib\n",
    "import matplotlib.pyplot as plt\n",
    "import numpy as np\n",
    "import torch.nn as nn\n",
    "import torch.nn.functional as F\n",
    "from PIL import Image\n",
    "import torch\n",
    "from tqdm import tqdm\n",
    "from typing import Optional, Callable\n",
    "from sklearn.metrics import accuracy_score, f1_score\n",
    "from sklearn.covariance import LedoitWolf\n",
    "import json\n",
    "from collections.abc import Mapping\n",
    "from torchvision.transforms import v2\n",
    "import pandas as pd\n",
    "%load_ext autoreload\n",
    "%autoreload 2\n",
    "torch.manual_seed(0)"
   ]
  },
  {
   "cell_type": "code",
   "execution_count": 21,
   "metadata": {},
   "outputs": [],
   "source": [
    "file_name = r\"./coin-detector-model/coin-detector-2.svm\"\n",
    "detector = dlib.simple_object_detector(file_name)"
   ]
  },
  {
   "cell_type": "code",
   "execution_count": 22,
   "metadata": {},
   "outputs": [
    {
     "name": "stderr",
     "output_type": "stream",
     "text": [
      "  0%|          | 0/81 [00:00<?, ?it/s]/home/bluedrack/.conda/envs/iapr/lib/python3.9/site-packages/torchvision/transforms/v2/_deprecated.py:42: UserWarning: The transform `ToTensor()` is deprecated and will be removed in a future release. Instead, please use `v2.Compose([v2.ToImage(), v2.ToDtype(torch.float32, scale=True)])`.Output is equivalent up to float precision.\n",
      "  warnings.warn(\n",
      "100%|██████████| 81/81 [03:42<00:00,  2.74s/it]"
     ]
    },
    {
     "name": "stdout",
     "output_type": "stream",
     "text": [
      "Creating csv file...\n",
      "[{'id': 'L1010277', '5CHF': 0, '2CHF': 0, '1CHF': 0, '0.5CHF': 2, '0.2CHF': 0, '0.1CHF': 0, '0.05CHF': 0, '2EUR': 1, '1EUR': 0, '0.5EUR': 1, '0.2EUR': 0, '0.1EUR': 0, '0.05EUR': 0, '0.02EUR': 0, '0.01EUR': 0, 'OOD': 1}, {'id': 'L1010279', '5CHF': 0, '2CHF': 0, '1CHF': 0, '0.5CHF': 1, '0.2CHF': 0, '0.1CHF': 0, '0.05CHF': 0, '2EUR': 0, '1EUR': 0, '0.5EUR': 0, '0.2EUR': 0, '0.1EUR': 0, '0.05EUR': 0, '0.02EUR': 0, '0.01EUR': 0, 'OOD': 3}, {'id': 'L1010281', '5CHF': 0, '2CHF': 0, '1CHF': 0, '0.5CHF': 1, '0.2CHF': 0, '0.1CHF': 0, '0.05CHF': 0, '2EUR': 0, '1EUR': 0, '0.5EUR': 1, '0.2EUR': 0, '0.1EUR': 0, '0.05EUR': 0, '0.02EUR': 0, '0.01EUR': 0, 'OOD': 6}, {'id': 'L1010283', '5CHF': 0, '2CHF': 0, '1CHF': 0, '0.5CHF': 0, '0.2CHF': 0, '0.1CHF': 0, '0.05CHF': 0, '2EUR': 0, '1EUR': 0, '0.5EUR': 1, '0.2EUR': 0, '0.1EUR': 0, '0.05EUR': 0, '0.02EUR': 0, '0.01EUR': 0, 'OOD': 5}, {'id': 'L1010287', '5CHF': 0, '2CHF': 0, '1CHF': 0, '0.5CHF': 2, '0.2CHF': 0, '0.1CHF': 0, '0.05CHF': 0, '2EUR': 0, '1EUR': 0, '0.5EUR': 1, '0.2EUR': 0, '0.1EUR': 0, '0.05EUR': 0, '0.02EUR': 0, '0.01EUR': 0, 'OOD': 5}, {'id': 'L1010288', '5CHF': 0, '2CHF': 0, '1CHF': 0, '0.5CHF': 0, '0.2CHF': 0, '0.1CHF': 0, '0.05CHF': 0, '2EUR': 0, '1EUR': 0, '0.5EUR': 0, '0.2EUR': 0, '0.1EUR': 0, '0.05EUR': 0, '0.02EUR': 0, '0.01EUR': 0, 'OOD': 5}, {'id': 'L1010294', '5CHF': 0, '2CHF': 0, '1CHF': 0, '0.5CHF': 1, '0.2CHF': 0, '0.1CHF': 0, '0.05CHF': 0, '2EUR': 0, '1EUR': 0, '0.5EUR': 0, '0.2EUR': 0, '0.1EUR': 0, '0.05EUR': 0, '0.02EUR': 0, '0.01EUR': 0, 'OOD': 4}, {'id': 'L1010297', '5CHF': 0, '2CHF': 0, '1CHF': 0, '0.5CHF': 0, '0.2CHF': 0, '0.1CHF': 0, '0.05CHF': 0, '2EUR': 0, '1EUR': 0, '0.5EUR': 0, '0.2EUR': 0, '0.1EUR': 0, '0.05EUR': 0, '0.02EUR': 0, '0.01EUR': 0, 'OOD': 4}, {'id': 'L1010298', '5CHF': 0, '2CHF': 0, '1CHF': 0, '0.5CHF': 1, '0.2CHF': 0, '0.1CHF': 0, '0.05CHF': 0, '2EUR': 0, '1EUR': 0, '0.5EUR': 1, '0.2EUR': 0, '0.1EUR': 0, '0.05EUR': 0, '0.02EUR': 0, '0.01EUR': 0, 'OOD': 3}, {'id': 'L1010300', '5CHF': 0, '2CHF': 0, '1CHF': 0, '0.5CHF': 1, '0.2CHF': 0, '0.1CHF': 0, '0.05CHF': 0, '2EUR': 0, '1EUR': 0, '0.5EUR': 0, '0.2EUR': 0, '0.1EUR': 0, '0.05EUR': 0, '0.02EUR': 0, '0.01EUR': 0, 'OOD': 4}, {'id': 'L1010308', '5CHF': 0, '2CHF': 0, '1CHF': 0, '0.5CHF': 2, '0.2CHF': 0, '0.1CHF': 0, '0.05CHF': 0, '2EUR': 0, '1EUR': 0, '0.5EUR': 0, '0.2EUR': 0, '0.1EUR': 0, '0.05EUR': 0, '0.02EUR': 0, '0.01EUR': 0, 'OOD': 7}, {'id': 'L1010310', '5CHF': 0, '2CHF': 0, '1CHF': 0, '0.5CHF': 3, '0.2CHF': 0, '0.1CHF': 0, '0.05CHF': 0, '2EUR': 0, '1EUR': 0, '0.5EUR': 0, '0.2EUR': 0, '0.1EUR': 0, '0.05EUR': 0, '0.02EUR': 0, '0.01EUR': 0, 'OOD': 4}, {'id': 'L1010311', '5CHF': 0, '2CHF': 0, '1CHF': 0, '0.5CHF': 1, '0.2CHF': 0, '0.1CHF': 0, '0.05CHF': 0, '2EUR': 0, '1EUR': 0, '0.5EUR': 1, '0.2EUR': 0, '0.1EUR': 0, '0.05EUR': 0, '0.02EUR': 0, '0.01EUR': 0, 'OOD': 4}, {'id': 'L1010318', '5CHF': 0, '2CHF': 0, '1CHF': 0, '0.5CHF': 1, '0.2CHF': 0, '0.1CHF': 0, '0.05CHF': 0, '2EUR': 0, '1EUR': 0, '0.5EUR': 1, '0.2EUR': 0, '0.1EUR': 0, '0.05EUR': 0, '0.02EUR': 0, '0.01EUR': 0, 'OOD': 9}, {'id': 'L1010321', '5CHF': 0, '2CHF': 0, '1CHF': 0, '0.5CHF': 0, '0.2CHF': 0, '0.1CHF': 0, '0.05CHF': 0, '2EUR': 0, '1EUR': 0, '0.5EUR': 0, '0.2EUR': 0, '0.1EUR': 0, '0.05EUR': 0, '0.02EUR': 0, '0.01EUR': 0, 'OOD': 9}, {'id': 'L1010323', '5CHF': 0, '2CHF': 0, '1CHF': 0, '0.5CHF': 3, '0.2CHF': 0, '0.1CHF': 0, '0.05CHF': 0, '2EUR': 0, '1EUR': 0, '0.5EUR': 0, '0.2EUR': 0, '0.1EUR': 0, '0.05EUR': 0, '0.02EUR': 0, '0.01EUR': 0, 'OOD': 5}, {'id': 'L1010325', '5CHF': 0, '2CHF': 0, '1CHF': 0, '0.5CHF': 0, '0.2CHF': 0, '0.1CHF': 0, '0.05CHF': 0, '2EUR': 0, '1EUR': 0, '0.5EUR': 0, '0.2EUR': 0, '0.1EUR': 0, '0.05EUR': 0, '0.02EUR': 0, '0.01EUR': 0, 'OOD': 5}, {'id': 'L1010328', '5CHF': 0, '2CHF': 0, '1CHF': 0, '0.5CHF': 1, '0.2CHF': 0, '0.1CHF': 0, '0.05CHF': 0, '2EUR': 0, '1EUR': 0, '0.5EUR': 0, '0.2EUR': 0, '0.1EUR': 0, '0.05EUR': 0, '0.02EUR': 0, '0.01EUR': 0, 'OOD': 3}, {'id': 'L1010331', '5CHF': 0, '2CHF': 0, '1CHF': 0, '0.5CHF': 0, '0.2CHF': 0, '0.1CHF': 0, '0.05CHF': 0, '2EUR': 0, '1EUR': 0, '0.5EUR': 0, '0.2EUR': 0, '0.1EUR': 0, '0.05EUR': 0, '0.02EUR': 0, '0.01EUR': 0, 'OOD': 8}, {'id': 'L1010335', '5CHF': 0, '2CHF': 0, '1CHF': 0, '0.5CHF': 1, '0.2CHF': 0, '0.1CHF': 0, '0.05CHF': 0, '2EUR': 0, '1EUR': 0, '0.5EUR': 0, '0.2EUR': 0, '0.1EUR': 0, '0.05EUR': 0, '0.02EUR': 0, '0.01EUR': 0, 'OOD': 3}, {'id': 'L1010341', '5CHF': 0, '2CHF': 0, '1CHF': 0, '0.5CHF': 0, '0.2CHF': 0, '0.1CHF': 0, '0.05CHF': 0, '2EUR': 0, '1EUR': 0, '0.5EUR': 0, '0.2EUR': 0, '0.1EUR': 0, '0.05EUR': 0, '0.02EUR': 0, '0.01EUR': 0, 'OOD': 4}, {'id': 'L1010345', '5CHF': 0, '2CHF': 0, '1CHF': 0, '0.5CHF': 0, '0.2CHF': 0, '0.1CHF': 0, '0.05CHF': 0, '2EUR': 0, '1EUR': 0, '0.5EUR': 1, '0.2EUR': 0, '0.1EUR': 0, '0.05EUR': 0, '0.02EUR': 0, '0.01EUR': 0, 'OOD': 2}, {'id': 'L1010349', '5CHF': 0, '2CHF': 0, '1CHF': 0, '0.5CHF': 0, '0.2CHF': 0, '0.1CHF': 0, '0.05CHF': 0, '2EUR': 0, '1EUR': 0, '0.5EUR': 0, '0.2EUR': 0, '0.1EUR': 0, '0.05EUR': 0, '0.02EUR': 0, '0.01EUR': 0, 'OOD': 4}, {'id': 'L1010352', '5CHF': 0, '2CHF': 0, '1CHF': 0, '0.5CHF': 0, '0.2CHF': 0, '0.1CHF': 0, '0.05CHF': 0, '2EUR': 0, '1EUR': 0, '0.5EUR': 0, '0.2EUR': 0, '0.1EUR': 0, '0.05EUR': 0, '0.02EUR': 0, '0.01EUR': 0, 'OOD': 3}, {'id': 'L1010353', '5CHF': 0, '2CHF': 0, '1CHF': 0, '0.5CHF': 1, '0.2CHF': 0, '0.1CHF': 0, '0.05CHF': 0, '2EUR': 0, '1EUR': 0, '0.5EUR': 0, '0.2EUR': 0, '0.1EUR': 0, '0.05EUR': 0, '0.02EUR': 0, '0.01EUR': 0, 'OOD': 2}, {'id': 'L1010356', '5CHF': 0, '2CHF': 0, '1CHF': 0, '0.5CHF': 0, '0.2CHF': 0, '0.1CHF': 0, '0.05CHF': 0, '2EUR': 0, '1EUR': 0, '0.5EUR': 0, '0.2EUR': 0, '0.1EUR': 0, '0.05EUR': 0, '0.02EUR': 0, '0.01EUR': 0, 'OOD': 6}, {'id': 'L1010361', '5CHF': 0, '2CHF': 0, '1CHF': 1, '0.5CHF': 0, '0.2CHF': 0, '0.1CHF': 0, '0.05CHF': 0, '2EUR': 0, '1EUR': 0, '0.5EUR': 0, '0.2EUR': 0, '0.1EUR': 0, '0.05EUR': 0, '0.02EUR': 0, '0.01EUR': 0, 'OOD': 0}, {'id': 'L1010365', '5CHF': 0, '2CHF': 0, '1CHF': 0, '0.5CHF': 1, '0.2CHF': 0, '0.1CHF': 0, '0.05CHF': 0, '2EUR': 0, '1EUR': 0, '0.5EUR': 0, '0.2EUR': 0, '0.1EUR': 0, '0.05EUR': 0, '0.02EUR': 0, '0.01EUR': 0, 'OOD': 2}, {'id': 'L1010367', '5CHF': 0, '2CHF': 0, '1CHF': 0, '0.5CHF': 0, '0.2CHF': 0, '0.1CHF': 0, '0.05CHF': 0, '2EUR': 0, '1EUR': 0, '0.5EUR': 0, '0.2EUR': 0, '0.1EUR': 0, '0.05EUR': 0, '0.02EUR': 0, '0.01EUR': 0, 'OOD': 8}, {'id': 'L1010369', '5CHF': 0, '2CHF': 0, '1CHF': 0, '0.5CHF': 1, '0.2CHF': 0, '0.1CHF': 0, '0.05CHF': 0, '2EUR': 0, '1EUR': 0, '0.5EUR': 0, '0.2EUR': 0, '0.1EUR': 0, '0.05EUR': 0, '0.02EUR': 0, '0.01EUR': 0, 'OOD': 8}, {'id': 'L1010370', '5CHF': 0, '2CHF': 0, '1CHF': 0, '0.5CHF': 4, '0.2CHF': 0, '0.1CHF': 0, '0.05CHF': 0, '2EUR': 0, '1EUR': 0, '0.5EUR': 1, '0.2EUR': 0, '0.1EUR': 0, '0.05EUR': 0, '0.02EUR': 0, '0.01EUR': 0, 'OOD': 12}, {'id': 'L1010373', '5CHF': 0, '2CHF': 0, '1CHF': 0, '0.5CHF': 0, '0.2CHF': 0, '0.1CHF': 0, '0.05CHF': 0, '2EUR': 0, '1EUR': 0, '0.5EUR': 0, '0.2EUR': 0, '0.1EUR': 0, '0.05EUR': 0, '0.02EUR': 0, '0.01EUR': 0, 'OOD': 3}, {'id': 'L1010375', '5CHF': 1, '2CHF': 0, '1CHF': 0, '0.5CHF': 3, '0.2CHF': 0, '0.1CHF': 0, '0.05CHF': 0, '2EUR': 0, '1EUR': 0, '0.5EUR': 0, '0.2EUR': 0, '0.1EUR': 0, '0.05EUR': 0, '0.02EUR': 0, '0.01EUR': 0, 'OOD': 0}, {'id': 'L1010377', '5CHF': 0, '2CHF': 0, '1CHF': 0, '0.5CHF': 1, '0.2CHF': 0, '0.1CHF': 0, '0.05CHF': 0, '2EUR': 0, '1EUR': 0, '0.5EUR': 0, '0.2EUR': 0, '0.1EUR': 0, '0.05EUR': 0, '0.02EUR': 0, '0.01EUR': 0, 'OOD': 3}, {'id': 'L1010378', '5CHF': 0, '2CHF': 0, '1CHF': 0, '0.5CHF': 0, '0.2CHF': 0, '0.1CHF': 0, '0.05CHF': 0, '2EUR': 0, '1EUR': 0, '0.5EUR': 0, '0.2EUR': 0, '0.1EUR': 0, '0.05EUR': 0, '0.02EUR': 0, '0.01EUR': 0, 'OOD': 5}, {'id': 'L1010382', '5CHF': 0, '2CHF': 0, '1CHF': 0, '0.5CHF': 0, '0.2CHF': 0, '0.1CHF': 0, '0.05CHF': 0, '2EUR': 0, '1EUR': 0, '0.5EUR': 1, '0.2EUR': 0, '0.1EUR': 0, '0.05EUR': 0, '0.02EUR': 0, '0.01EUR': 0, 'OOD': 0}, {'id': 'L1010383', '5CHF': 0, '2CHF': 0, '1CHF': 0, '0.5CHF': 0, '0.2CHF': 0, '0.1CHF': 0, '0.05CHF': 0, '2EUR': 0, '1EUR': 0, '0.5EUR': 1, '0.2EUR': 0, '0.1EUR': 0, '0.05EUR': 0, '0.02EUR': 0, '0.01EUR': 0, 'OOD': 4}, {'id': 'L1010388', '5CHF': 0, '2CHF': 0, '1CHF': 0, '0.5CHF': 0, '0.2CHF': 0, '0.1CHF': 0, '0.05CHF': 0, '2EUR': 0, '1EUR': 0, '0.5EUR': 1, '0.2EUR': 0, '0.1EUR': 0, '0.05EUR': 0, '0.02EUR': 0, '0.01EUR': 0, 'OOD': 3}, {'id': 'L1010390', '5CHF': 0, '2CHF': 0, '1CHF': 0, '0.5CHF': 1, '0.2CHF': 0, '0.1CHF': 0, '0.05CHF': 0, '2EUR': 0, '1EUR': 0, '0.5EUR': 0, '0.2EUR': 0, '0.1EUR': 0, '0.05EUR': 0, '0.02EUR': 0, '0.01EUR': 0, 'OOD': 3}, {'id': 'L1010391', '5CHF': 0, '2CHF': 0, '1CHF': 0, '0.5CHF': 0, '0.2CHF': 0, '0.1CHF': 0, '0.05CHF': 0, '2EUR': 0, '1EUR': 0, '0.5EUR': 0, '0.2EUR': 0, '0.1EUR': 0, '0.05EUR': 0, '0.02EUR': 0, '0.01EUR': 0, 'OOD': 3}, {'id': 'L1010395', '5CHF': 0, '2CHF': 0, '1CHF': 0, '0.5CHF': 1, '0.2CHF': 0, '0.1CHF': 0, '0.05CHF': 0, '2EUR': 0, '1EUR': 0, '0.5EUR': 0, '0.2EUR': 0, '0.1EUR': 0, '0.05EUR': 0, '0.02EUR': 0, '0.01EUR': 0, 'OOD': 3}, {'id': 'L1010405', '5CHF': 0, '2CHF': 0, '1CHF': 0, '0.5CHF': 1, '0.2CHF': 0, '0.1CHF': 0, '0.05CHF': 0, '2EUR': 0, '1EUR': 0, '0.5EUR': 0, '0.2EUR': 0, '0.1EUR': 0, '0.05EUR': 0, '0.02EUR': 0, '0.01EUR': 0, 'OOD': 3}, {'id': 'L1010406', '5CHF': 0, '2CHF': 0, '1CHF': 0, '0.5CHF': 0, '0.2CHF': 0, '0.1CHF': 0, '0.05CHF': 0, '2EUR': 0, '1EUR': 0, '0.5EUR': 0, '0.2EUR': 0, '0.1EUR': 0, '0.05EUR': 0, '0.02EUR': 0, '0.01EUR': 0, 'OOD': 5}, {'id': 'L1010408', '5CHF': 0, '2CHF': 0, '1CHF': 0, '0.5CHF': 1, '0.2CHF': 0, '0.1CHF': 0, '0.05CHF': 0, '2EUR': 0, '1EUR': 0, '0.5EUR': 0, '0.2EUR': 0, '0.1EUR': 0, '0.05EUR': 0, '0.02EUR': 0, '0.01EUR': 0, 'OOD': 1}, {'id': 'L1010410', '5CHF': 0, '2CHF': 0, '1CHF': 0, '0.5CHF': 1, '0.2CHF': 0, '0.1CHF': 0, '0.05CHF': 0, '2EUR': 0, '1EUR': 0, '0.5EUR': 0, '0.2EUR': 0, '0.1EUR': 0, '0.05EUR': 0, '0.02EUR': 0, '0.01EUR': 0, 'OOD': 2}, {'id': 'L1010413', '5CHF': 0, '2CHF': 0, '1CHF': 0, '0.5CHF': 0, '0.2CHF': 0, '0.1CHF': 0, '0.05CHF': 0, '2EUR': 0, '1EUR': 0, '0.5EUR': 1, '0.2EUR': 0, '0.1EUR': 0, '0.05EUR': 0, '0.02EUR': 0, '0.01EUR': 0, 'OOD': 3}, {'id': 'L1010418', '5CHF': 0, '2CHF': 0, '1CHF': 0, '0.5CHF': 0, '0.2CHF': 0, '0.1CHF': 0, '0.05CHF': 0, '2EUR': 0, '1EUR': 0, '0.5EUR': 0, '0.2EUR': 0, '0.1EUR': 0, '0.05EUR': 0, '0.02EUR': 0, '0.01EUR': 0, 'OOD': 2}, {'id': 'L1010419', '5CHF': 0, '2CHF': 0, '1CHF': 0, '0.5CHF': 2, '0.2CHF': 0, '0.1CHF': 0, '0.05CHF': 0, '2EUR': 0, '1EUR': 0, '0.5EUR': 0, '0.2EUR': 0, '0.1EUR': 0, '0.05EUR': 0, '0.02EUR': 0, '0.01EUR': 0, 'OOD': 1}, {'id': 'L1010421', '5CHF': 0, '2CHF': 0, '1CHF': 0, '0.5CHF': 2, '0.2CHF': 0, '0.1CHF': 0, '0.05CHF': 0, '2EUR': 0, '1EUR': 0, '0.5EUR': 0, '0.2EUR': 0, '0.1EUR': 0, '0.05EUR': 0, '0.02EUR': 0, '0.01EUR': 0, 'OOD': 2}, {'id': 'L1010422', '5CHF': 0, '2CHF': 0, '1CHF': 0, '0.5CHF': 2, '0.2CHF': 0, '0.1CHF': 0, '0.05CHF': 0, '2EUR': 0, '1EUR': 0, '0.5EUR': 0, '0.2EUR': 0, '0.1EUR': 0, '0.05EUR': 0, '0.02EUR': 0, '0.01EUR': 0, 'OOD': 1}, {'id': 'L1010424', '5CHF': 0, '2CHF': 0, '1CHF': 0, '0.5CHF': 1, '0.2CHF': 0, '0.1CHF': 0, '0.05CHF': 0, '2EUR': 0, '1EUR': 0, '0.5EUR': 0, '0.2EUR': 0, '0.1EUR': 0, '0.05EUR': 0, '0.02EUR': 0, '0.01EUR': 0, 'OOD': 4}, {'id': 'L1010434', '5CHF': 0, '2CHF': 0, '1CHF': 0, '0.5CHF': 1, '0.2CHF': 0, '0.1CHF': 0, '0.05CHF': 0, '2EUR': 0, '1EUR': 0, '0.5EUR': 0, '0.2EUR': 0, '0.1EUR': 0, '0.05EUR': 0, '0.02EUR': 0, '0.01EUR': 0, 'OOD': 3}, {'id': 'L1010436', '5CHF': 0, '2CHF': 0, '1CHF': 0, '0.5CHF': 0, '0.2CHF': 0, '0.1CHF': 0, '0.05CHF': 0, '2EUR': 0, '1EUR': 0, '0.5EUR': 0, '0.2EUR': 0, '0.1EUR': 0, '0.05EUR': 0, '0.02EUR': 0, '0.01EUR': 0, 'OOD': 1}, {'id': 'L1010440', '5CHF': 0, '2CHF': 0, '1CHF': 0, '0.5CHF': 1, '0.2CHF': 0, '0.1CHF': 0, '0.05CHF': 0, '2EUR': 0, '1EUR': 0, '0.5EUR': 0, '0.2EUR': 0, '0.1EUR': 0, '0.05EUR': 0, '0.02EUR': 0, '0.01EUR': 0, 'OOD': 7}, {'id': 'L1010445', '5CHF': 1, '2CHF': 0, '1CHF': 0, '0.5CHF': 2, '0.2CHF': 0, '0.1CHF': 0, '0.05CHF': 0, '2EUR': 0, '1EUR': 0, '0.5EUR': 0, '0.2EUR': 0, '0.1EUR': 0, '0.05EUR': 0, '0.02EUR': 0, '0.01EUR': 0, 'OOD': 0}, {'id': 'L1010446', '5CHF': 0, '2CHF': 0, '1CHF': 0, '0.5CHF': 0, '0.2CHF': 0, '0.1CHF': 0, '0.05CHF': 0, '2EUR': 0, '1EUR': 0, '0.5EUR': 0, '0.2EUR': 0, '0.1EUR': 0, '0.05EUR': 0, '0.02EUR': 0, '0.01EUR': 0, 'OOD': 5}, {'id': 'L1010450', '5CHF': 1, '2CHF': 0, '1CHF': 0, '0.5CHF': 0, '0.2CHF': 0, '0.1CHF': 0, '0.05CHF': 0, '2EUR': 0, '1EUR': 0, '0.5EUR': 0, '0.2EUR': 0, '0.1EUR': 0, '0.05EUR': 0, '0.02EUR': 0, '0.01EUR': 0, 'OOD': 4}, {'id': 'L1010454', '5CHF': 0, '2CHF': 0, '1CHF': 0, '0.5CHF': 1, '0.2CHF': 0, '0.1CHF': 0, '0.05CHF': 0, '2EUR': 0, '1EUR': 0, '0.5EUR': 0, '0.2EUR': 0, '0.1EUR': 0, '0.05EUR': 0, '0.02EUR': 0, '0.01EUR': 0, 'OOD': 1}, {'id': 'L1010462', '5CHF': 0, '2CHF': 0, '1CHF': 0, '0.5CHF': 0, '0.2CHF': 0, '0.1CHF': 0, '0.05CHF': 0, '2EUR': 0, '1EUR': 0, '0.5EUR': 0, '0.2EUR': 0, '0.1EUR': 0, '0.05EUR': 0, '0.02EUR': 0, '0.01EUR': 0, 'OOD': 4}, {'id': 'L1010468', '5CHF': 0, '2CHF': 0, '1CHF': 0, '0.5CHF': 0, '0.2CHF': 0, '0.1CHF': 0, '0.05CHF': 0, '2EUR': 0, '1EUR': 0, '0.5EUR': 0, '0.2EUR': 0, '0.1EUR': 0, '0.05EUR': 0, '0.02EUR': 0, '0.01EUR': 0, 'OOD': 1}, {'id': 'L1010470', '5CHF': 0, '2CHF': 0, '1CHF': 0, '0.5CHF': 1, '0.2CHF': 0, '0.1CHF': 0, '0.05CHF': 0, '2EUR': 0, '1EUR': 0, '0.5EUR': 0, '0.2EUR': 0, '0.1EUR': 0, '0.05EUR': 0, '0.02EUR': 0, '0.01EUR': 0, 'OOD': 3}, {'id': 'L1010475', '5CHF': 0, '2CHF': 0, '1CHF': 0, '0.5CHF': 1, '0.2CHF': 0, '0.1CHF': 0, '0.05CHF': 0, '2EUR': 0, '1EUR': 0, '0.5EUR': 0, '0.2EUR': 0, '0.1EUR': 0, '0.05EUR': 0, '0.02EUR': 0, '0.01EUR': 0, 'OOD': 2}, {'id': 'L1010476', '5CHF': 0, '2CHF': 0, '1CHF': 0, '0.5CHF': 2, '0.2CHF': 0, '0.1CHF': 0, '0.05CHF': 0, '2EUR': 0, '1EUR': 0, '0.5EUR': 0, '0.2EUR': 0, '0.1EUR': 0, '0.05EUR': 0, '0.02EUR': 0, '0.01EUR': 0, 'OOD': 5}, {'id': 'L1010477', '5CHF': 0, '2CHF': 0, '1CHF': 0, '0.5CHF': 0, '0.2CHF': 0, '0.1CHF': 0, '0.05CHF': 0, '2EUR': 0, '1EUR': 0, '0.5EUR': 0, '0.2EUR': 0, '0.1EUR': 0, '0.05EUR': 0, '0.02EUR': 0, '0.01EUR': 0, 'OOD': 5}, {'id': 'L1010478', '5CHF': 0, '2CHF': 0, '1CHF': 0, '0.5CHF': 1, '0.2CHF': 0, '0.1CHF': 0, '0.05CHF': 0, '2EUR': 0, '1EUR': 0, '0.5EUR': 0, '0.2EUR': 0, '0.1EUR': 0, '0.05EUR': 0, '0.02EUR': 0, '0.01EUR': 0, 'OOD': 4}, {'id': 'L1010479', '5CHF': 0, '2CHF': 0, '1CHF': 0, '0.5CHF': 2, '0.2CHF': 0, '0.1CHF': 0, '0.05CHF': 0, '2EUR': 0, '1EUR': 0, '0.5EUR': 0, '0.2EUR': 0, '0.1EUR': 0, '0.05EUR': 0, '0.02EUR': 0, '0.01EUR': 0, 'OOD': 3}, {'id': 'L1010483', '5CHF': 1, '2CHF': 0, '1CHF': 0, '0.5CHF': 0, '0.2CHF': 0, '0.1CHF': 0, '0.05CHF': 0, '2EUR': 0, '1EUR': 0, '0.5EUR': 0, '0.2EUR': 0, '0.1EUR': 0, '0.05EUR': 1, '0.02EUR': 0, '0.01EUR': 0, 'OOD': 2}, {'id': 'L1010485', '5CHF': 0, '2CHF': 0, '1CHF': 0, '0.5CHF': 2, '0.2CHF': 0, '0.1CHF': 0, '0.05CHF': 0, '2EUR': 0, '1EUR': 0, '0.5EUR': 0, '0.2EUR': 0, '0.1EUR': 0, '0.05EUR': 0, '0.02EUR': 0, '0.01EUR': 0, 'OOD': 2}, {'id': 'L1010486', '5CHF': 1, '2CHF': 0, '1CHF': 0, '0.5CHF': 0, '0.2CHF': 0, '0.1CHF': 0, '0.05CHF': 0, '2EUR': 0, '1EUR': 0, '0.5EUR': 0, '0.2EUR': 0, '0.1EUR': 0, '0.05EUR': 0, '0.02EUR': 0, '0.01EUR': 0, 'OOD': 4}, {'id': 'L1010487', '5CHF': 0, '2CHF': 0, '1CHF': 0, '0.5CHF': 1, '0.2CHF': 0, '0.1CHF': 0, '0.05CHF': 0, '2EUR': 0, '1EUR': 0, '0.5EUR': 0, '0.2EUR': 0, '0.1EUR': 0, '0.05EUR': 0, '0.02EUR': 0, '0.01EUR': 0, 'OOD': 4}, {'id': 'L1010491', '5CHF': 0, '2CHF': 0, '1CHF': 0, '0.5CHF': 2, '0.2CHF': 0, '0.1CHF': 0, '0.05CHF': 0, '2EUR': 0, '1EUR': 0, '0.5EUR': 0, '0.2EUR': 0, '0.1EUR': 0, '0.05EUR': 0, '0.02EUR': 0, '0.01EUR': 0, 'OOD': 6}, {'id': 'L1010500', '5CHF': 0, '2CHF': 0, '1CHF': 0, '0.5CHF': 0, '0.2CHF': 0, '0.1CHF': 0, '0.05CHF': 0, '2EUR': 1, '1EUR': 0, '0.5EUR': 0, '0.2EUR': 0, '0.1EUR': 0, '0.05EUR': 0, '0.02EUR': 0, '0.01EUR': 0, 'OOD': 5}, {'id': 'L1010501', '5CHF': 0, '2CHF': 0, '1CHF': 0, '0.5CHF': 1, '0.2CHF': 0, '0.1CHF': 0, '0.05CHF': 0, '2EUR': 0, '1EUR': 0, '0.5EUR': 0, '0.2EUR': 0, '0.1EUR': 0, '0.05EUR': 0, '0.02EUR': 0, '0.01EUR': 0, 'OOD': 0}, {'id': 'L1010503', '5CHF': 0, '2CHF': 0, '1CHF': 1, '0.5CHF': 1, '0.2CHF': 0, '0.1CHF': 0, '0.05CHF': 0, '2EUR': 0, '1EUR': 0, '0.5EUR': 1, '0.2EUR': 0, '0.1EUR': 0, '0.05EUR': 0, '0.02EUR': 0, '0.01EUR': 0, 'OOD': 3}, {'id': 'L1010506', '5CHF': 0, '2CHF': 0, '1CHF': 0, '0.5CHF': 0, '0.2CHF': 0, '0.1CHF': 0, '0.05CHF': 0, '2EUR': 0, '1EUR': 0, '0.5EUR': 1, '0.2EUR': 0, '0.1EUR': 0, '0.05EUR': 0, '0.02EUR': 0, '0.01EUR': 0, 'OOD': 2}, {'id': 'L1010510', '5CHF': 0, '2CHF': 0, '1CHF': 0, '0.5CHF': 0, '0.2CHF': 0, '0.1CHF': 0, '0.05CHF': 0, '2EUR': 0, '1EUR': 0, '0.5EUR': 2, '0.2EUR': 0, '0.1EUR': 0, '0.05EUR': 0, '0.02EUR': 0, '0.01EUR': 0, 'OOD': 1}, {'id': 'L1010515', '5CHF': 0, '2CHF': 0, '1CHF': 0, '0.5CHF': 0, '0.2CHF': 0, '0.1CHF': 0, '0.05CHF': 0, '2EUR': 1, '1EUR': 0, '0.5EUR': 0, '0.2EUR': 0, '0.1EUR': 0, '0.05EUR': 0, '0.02EUR': 0, '0.01EUR': 0, 'OOD': 2}, {'id': 'L1010517', '5CHF': 0, '2CHF': 0, '1CHF': 0, '0.5CHF': 1, '0.2CHF': 0, '0.1CHF': 0, '0.05CHF': 0, '2EUR': 0, '1EUR': 0, '0.5EUR': 0, '0.2EUR': 0, '0.1EUR': 0, '0.05EUR': 0, '0.02EUR': 0, '0.01EUR': 0, 'OOD': 2}, {'id': 'L1010521', '5CHF': 0, '2CHF': 0, '1CHF': 0, '0.5CHF': 1, '0.2CHF': 0, '0.1CHF': 0, '0.05CHF': 0, '2EUR': 0, '1EUR': 0, '0.5EUR': 0, '0.2EUR': 0, '0.1EUR': 0, '0.05EUR': 0, '0.02EUR': 0, '0.01EUR': 0, 'OOD': 2}, {'id': 'L1010523', '5CHF': 0, '2CHF': 0, '1CHF': 0, '0.5CHF': 0, '0.2CHF': 0, '0.1CHF': 0, '0.05CHF': 0, '2EUR': 0, '1EUR': 0, '0.5EUR': 0, '0.2EUR': 0, '0.1EUR': 0, '0.05EUR': 0, '0.02EUR': 0, '0.01EUR': 0, 'OOD': 3}, {'id': 'L1010524', '5CHF': 0, '2CHF': 0, '1CHF': 0, '0.5CHF': 0, '0.2CHF': 0, '0.1CHF': 0, '0.05CHF': 0, '2EUR': 0, '1EUR': 0, '0.5EUR': 0, '0.2EUR': 0, '0.1EUR': 0, '0.05EUR': 0, '0.02EUR': 0, '0.01EUR': 0, 'OOD': 3}]\n"
     ]
    },
    {
     "name": "stderr",
     "output_type": "stream",
     "text": [
      "\n"
     ]
    }
   ],
   "source": [
    "possible_value = [\"5CHF\", \"2CHF\", \"1CHF\", \"0.5CHF\", \"0.2CHF\", \"0.1CHF\", \"0.05CHF\", \"2EUR\", \"1EUR\", \"0.5EUR\", \"0.2EUR\", \"0.1EUR\", \"0.05EUR\", \"0.02EUR\", \"0.01EUR\", \"OOD\"]\n",
    "test_folder = r\"./data/test\"\n",
    "valid_extensions = ('.jpg')\n",
    "device = torch.device(\"gpu\" if torch.cuda.is_available() else \"cpu\")\n",
    "model = torch.load(r\"./model/best_model.pth\", map_location=device)\n",
    "model.eval()\n",
    "\n",
    "file_list = os.listdir(test_folder)\n",
    "image_files = [f for f in file_list if f.lower().endswith(valid_extensions)]\n",
    "\n",
    "final_count = []\n",
    "\n",
    "image_files = sorted(image_files)\n",
    "\n",
    "for image_file in tqdm(image_files):\n",
    "    answer = {}\n",
    "    coins = []\n",
    "    image_path = os.path.join(test_folder, image_file)\n",
    "    image = cv2.imread(image_path)\n",
    "    image_name = image_file.removesuffix(\".JPG\")\n",
    "    if image is None:\n",
    "        print(f\"Failed to load {image_file}\")\n",
    "        continue\n",
    "    \n",
    "    detected_im = detector(image)\n",
    "    for i, detect_test in enumerate(detected_im):\n",
    "        img_rgb = cv2.cvtColor(image, cv2.COLOR_BGR2RGB)\n",
    "        d_box = detect_test\n",
    "        coins.append(img_rgb[d_box.top():d_box.bottom(), d_box.left():d_box.right()])\n",
    "    coin_count = {}\n",
    "    answer[\"id\"] = image_name\n",
    "    for i in range(16):\n",
    "        answer[possible_value[i]] = 0\n",
    "\n",
    "    for c in coins:\n",
    "        if(c.shape[0] == 0 or c.shape[1] == 0):\n",
    "            continue\n",
    "        c = torch.tensor(c, dtype=torch.float32).permute(2, 0, 1).unsqueeze(0)\n",
    "        transform = v2.Compose([\n",
    "            v2.Resize(224),\n",
    "            v2.CenterCrop(224),\n",
    "            v2.ToTensor(),\n",
    "            v2.Normalize(mean=[0.485, 0.456, 0.406], std=[0.229, 0.224, 0.225])\n",
    "        ])\n",
    "        \n",
    "        with torch.no_grad():\n",
    "            c = transform(c)\n",
    "            output = model(c)\n",
    "            res = output.argmax()\n",
    "            answer[possible_value[res.item()]] += 1\n",
    "    final_count.append(answer)\n",
    "\n",
    "print(\"Creating csv file...\")\n",
    "print(final_count)\n",
    "pandas_df = pd.DataFrame(final_count)\n",
    "pandas_df.to_csv(r\"./data/test-predictions.csv\", index=False)\n",
    "\n"
   ]
  },
  {
   "cell_type": "code",
   "execution_count": 23,
   "metadata": {},
   "outputs": [
    {
     "name": "stdout",
     "output_type": "stream",
     "text": [
      "          id           5CHF       2CHF       1CHF       0.5CHF        ...  \\\n",
      "        self     other self other self other self other   self other  ...   \n",
      "0   L1010281  L1010277  NaN   NaN  NaN   NaN  NaN   NaN    0.0   2.0  ...   \n",
      "1   L1010298  L1010279  NaN   NaN  2.0   0.0  1.0   0.0    2.0   1.0  ...   \n",
      "2   L1010321  L1010281  NaN   NaN  NaN   NaN  1.0   0.0    2.0   1.0  ...   \n",
      "3   L1010310  L1010283  NaN   NaN  NaN   NaN  1.0   0.0    1.0   0.0  ...   \n",
      "4   L1010300  L1010287  NaN   NaN  1.0   0.0  NaN   NaN    0.0   2.0  ...   \n",
      "..       ...       ...  ...   ...  ...   ...  ...   ...    ...   ...  ...   \n",
      "76  L1010524  L1010515  1.0   0.0  NaN   NaN  NaN   NaN    NaN   NaN  ...   \n",
      "77  L1010506  L1010517  1.0   0.0  NaN   NaN  NaN   NaN    0.0   1.0  ...   \n",
      "78       NaN       NaN  1.0   0.0  NaN   NaN  NaN   NaN    0.0   1.0  ...   \n",
      "79  L1010515  L1010523  NaN   NaN  NaN   NaN  NaN   NaN    NaN   NaN  ...   \n",
      "80  L1010523  L1010524  NaN   NaN  NaN   NaN  NaN   NaN    NaN   NaN  ...   \n",
      "\n",
      "   0.1EUR       0.05EUR       0.02EUR       0.01EUR        OOD        \n",
      "     self other    self other    self other    self other self other  \n",
      "0     NaN   NaN     2.0   0.0     NaN   NaN     NaN   NaN  0.0   1.0  \n",
      "1     NaN   NaN     NaN   NaN     NaN   NaN     NaN   NaN  0.0   3.0  \n",
      "2     1.0   0.0     NaN   NaN     NaN   NaN     NaN   NaN  0.0   6.0  \n",
      "3     NaN   NaN     NaN   NaN     1.0   0.0     NaN   NaN  0.0   5.0  \n",
      "4     1.0   0.0     NaN   NaN     NaN   NaN     NaN   NaN  0.0   5.0  \n",
      "..    ...   ...     ...   ...     ...   ...     ...   ...  ...   ...  \n",
      "76    NaN   NaN     NaN   NaN     NaN   NaN     NaN   NaN  1.0   2.0  \n",
      "77    NaN   NaN     NaN   NaN     1.0   0.0     NaN   NaN  1.0   2.0  \n",
      "78    NaN   NaN     NaN   NaN     NaN   NaN     NaN   NaN  1.0   2.0  \n",
      "79    NaN   NaN     NaN   NaN     NaN   NaN     NaN   NaN  1.0   3.0  \n",
      "80    NaN   NaN     NaN   NaN     NaN   NaN     NaN   NaN  1.0   3.0  \n",
      "\n",
      "[81 rows x 34 columns]\n"
     ]
    }
   ],
   "source": [
    "# Compare prediction with labels\n",
    "labels = pd.read_csv(r\"./data/train_labels.csv\")\n",
    "#labels = labels.sort_values(by=\"id\")\n",
    "predictions = pd.read_csv(r\"./data/train-predictions.csv\")\n",
    "#predictions = predictions.sort_values(by=\"id\")\n",
    "diff = labels.compare(predictions)\n",
    "print(diff)"
   ]
  },
  {
   "cell_type": "code",
   "execution_count": null,
   "metadata": {},
   "outputs": [],
   "source": []
  }
 ],
 "metadata": {
  "kernelspec": {
   "display_name": "base",
   "language": "python",
   "name": "python3"
  },
  "language_info": {
   "codemirror_mode": {
    "name": "ipython",
    "version": 3
   },
   "file_extension": ".py",
   "mimetype": "text/x-python",
   "name": "python",
   "nbconvert_exporter": "python",
   "pygments_lexer": "ipython3",
   "version": "3.9.18"
  }
 },
 "nbformat": 4,
 "nbformat_minor": 2
}
