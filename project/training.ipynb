{
 "cells": [
  {
   "cell_type": "code",
   "execution_count": 14,
   "metadata": {},
   "outputs": [],
   "source": [
    "# import torch\n",
    "# import torch.nn as nn\n",
    "# import torch.nn.functional as F\n",
    "# import torch.optim as optim\n",
    "# from torchvision import datasets, transforms\n",
    "# import numpy as np\n",
    "# Import main packages\n",
    "import os\n",
    "import copy\n",
    "import matplotlib\n",
    "import matplotlib.pyplot as plt\n",
    "import numpy as np\n",
    "import torch.nn as nn\n",
    "import torch.nn.functional as F\n",
    "\n",
    "from PIL import Image\n",
    "import torch\n",
    "from torch.utils.data import Dataset, DataLoader\n",
    "from tqdm import tqdm\n",
    "from typing import Optional, Callable\n",
    "from sklearn.metrics import accuracy_score, f1_score\n",
    "from sklearn.covariance import LedoitWolf\n",
    "import json"
   ]
  },
  {
   "cell_type": "code",
   "execution_count": 20,
   "metadata": {},
   "outputs": [
    {
     "name": "stdout",
     "output_type": "stream",
     "text": [
      "cpu\n"
     ]
    }
   ],
   "source": [
    "device = torch.device(\"cuda\" if torch.cuda.is_available() else \"cpu\")\n",
    "print(device)"
   ]
  },
  {
   "cell_type": "code",
   "execution_count": 44,
   "metadata": {},
   "outputs": [],
   "source": [
    "class Classifier(nn.Module):\n",
    "    def __init__(self):\n",
    "        super(Classifier, self).__init__()\n",
    "        self.fc1 = nn.Linear(256*256*3, 64)\n",
    "        self.fc2 = nn.Linear(64, 64)\n",
    "        self.fc3 = nn.Linear(64, 16)\n",
    "\n",
    "    def forward(self, x):\n",
    "        x = F.relu(self.fc1(x))\n",
    "        x = F.relu(self.fc2(x))\n",
    "        return torch.sigmoid(self.fc3(x))"
   ]
  },
  {
   "cell_type": "code",
   "execution_count": 71,
   "metadata": {},
   "outputs": [],
   "source": [
    "class CoinDataset(Dataset):\n",
    "    \"\"\"DHMC dataset using 2 classes\"\"\"\n",
    "\n",
    "    def __init__(self, features_path : str, label_path,train : bool = False) -> None:\n",
    "        \"\"\"\n",
    "        Attributes:\n",
    "            raw_data (list of dict): (M) List of M slides raw data as dictionaries. \n",
    "            train (bool): True if data are the training set. False otherwise\n",
    "            \n",
    "        Args:\n",
    "            features_path (str): The path to the features file\n",
    "            train (bool): Whether it is the training dataset or not\n",
    "        \"\"\"\n",
    "        \n",
    "        super().__init__()\n",
    "        # Load raw data from path\n",
    "        \n",
    "        # self.raw_data = torch.load(features_path)\n",
    "        # load labels from json file\n",
    "        self.raw_data = []\n",
    "        data_json = None\n",
    "        with open(label_path, 'r') as f:\n",
    "            data_json = json.load(f)\n",
    "        for x in data_json:\n",
    "            filename = x[\"filename\"]\n",
    "            img_path = f\"{features_path}/{filename}\"\n",
    "            img = Image.open(img_path)\n",
    "            img = img.resize((256, 256))\n",
    "            img = np.array(img)\n",
    "            img = img.flatten()\n",
    "            self.raw_data.append({\"image_features\": img, \"label\": int(x[\"value\"])})\n",
    "\n",
    "            #open image\n",
    "        # Set if training or not\n",
    "        self.train = train\n",
    "\n",
    "    def __len__(self) -> int:\n",
    "        \"\"\"Returns the length of the dataset\n",
    "\n",
    "        Returns:\n",
    "            int: The length M of the dataset\n",
    "        \"\"\"\n",
    "\n",
    "        n_data = 0\n",
    "        \n",
    "        # ------------------\n",
    "        # Your code here ... \n",
    "        # ------------------\n",
    "        n_data = len(self.raw_data)\n",
    "        return n_data\n",
    "    \n",
    "    def __getitem__(self, index : int):\n",
    "        \"\"\"Returns the entry at index from the dataset\n",
    "\n",
    "        Args:\n",
    "            index (int): the requested entry index of the dataset\n",
    "\n",
    "        Returns:\n",
    "            features (torch.Tensor): (N, d) Feature tensor of the selected slide with N patches and d feature dimensions\n",
    "            label (int): Ground truth label {0, ..., n_classes}\n",
    "            wsi_id (str): Name of the WSI as \"DHMC_xxx\" where xxx is a unique id of the slide (train == False only)\n",
    "            coordinates (torch.Tensor): (N, 2) xy coordinates of the N patches of the selected slide (train == False only)\n",
    "        \"\"\"\n",
    "\n",
    "        features = None\n",
    "        label = None\n",
    "        wsi_id = None\n",
    "        coordinates = None\n",
    "        \n",
    "        # ------------------\n",
    "        # Your code here ... \n",
    "        # ------------------\n",
    "        features = torch.tensor(self.raw_data[index][\"image_features\"]).float()\n",
    "        label = torch.tensor(self.raw_data[index][\"label\"])\n",
    "        # coordinates = self.raw_data[index][\"patch_coordinates\"]\n",
    "        # wsi_id = self.raw_data[index][\"wsi_id\"]\n",
    "        # if self.train:\n",
    "        return features, label\n",
    "        # else:\n",
    "        #     return features, label, wsi_id, coordinates"
   ]
  },
  {
   "cell_type": "code",
   "execution_count": 72,
   "metadata": {},
   "outputs": [],
   "source": [
    "# Load all the img from output folder and make a dataset\n",
    "coinDataset = CoinDataset('./output-1/', \"data-1.json\", train=True)\n",
    "# trans = tranosforms.Compose([transforms.Resize(256),transforms.ToTensor()])\n",
    "train_loader = DataLoader(coinDataset, batch_size=1, shuffle=True, num_workers=1)\n",
    "# dataset = datasets.ImaVgeFolder('./output-1/', transform=transforms.ToTensor())"
   ]
  },
  {
   "cell_type": "code",
   "execution_count": 83,
   "metadata": {},
   "outputs": [
    {
     "ename": "NameError",
     "evalue": "name 'ResNet50_Weights' is not defined",
     "output_type": "error",
     "traceback": [
      "\u001b[0;31m---------------------------------------------------------------------------\u001b[0m",
      "\u001b[0;31mNameError\u001b[0m                                 Traceback (most recent call last)",
      "Cell \u001b[0;32mIn[83], line 3\u001b[0m\n\u001b[1;32m      1\u001b[0m \u001b[38;5;28;01mfrom\u001b[39;00m \u001b[38;5;21;01mtorchvision\u001b[39;00m\u001b[38;5;21;01m.\u001b[39;00m\u001b[38;5;21;01mmodels\u001b[39;00m \u001b[38;5;28;01mimport\u001b[39;00m resnet50\n\u001b[0;32m----> 3\u001b[0m model \u001b[38;5;241m=\u001b[39m resnet50(weights\u001b[38;5;241m=\u001b[39m\u001b[43mResNet50_Weights\u001b[49m\u001b[38;5;241m.\u001b[39mIMAGENET1K_V2)\n\u001b[1;32m      4\u001b[0m \u001b[38;5;28;01mdef\u001b[39;00m \u001b[38;5;21mtrain\u001b[39m(model, train_loader, optimizer, criterion, epochs\u001b[38;5;241m=\u001b[39m\u001b[38;5;241m10\u001b[39m):\n\u001b[1;32m      5\u001b[0m     \u001b[38;5;28;01mfor\u001b[39;00m epoch \u001b[38;5;129;01min\u001b[39;00m \u001b[38;5;28mrange\u001b[39m(epochs):\n",
      "\u001b[0;31mNameError\u001b[0m: name 'ResNet50_Weights' is not defined"
     ]
    }
   ],
   "source": [
    "from torchvision.models import resnet50, ResNet50_Weights\n",
    "\n",
    "model = resnet50(weights=ResNet50_Weights.IMAGENET1K_V2)\n",
    "def train(model, train_loader, optimizer, criterion, epochs=10):\n",
    "    for epoch in range(epochs):\n",
    "        for i, (data, target) in enumerate(train_loader):\n",
    "            data, target = data.to(device), target.to(device)\n",
    "            # data = data.view(-1, 256*256)\n",
    "            optimizer.zero_grad()\n",
    "            output = model(data)\n",
    "            # output.softmax(0)\n",
    "            # output = torch.round(output)\n",
    "            loss = F.cross_entropy(output, target)\n",
    "            loss.backward()\n",
    "            optimizer.step()\n",
    "            if i % 10 == 0:\n",
    "                print('Train Epoch: {} [{}/{} ({:.0f}%)]\\tLoss: {:.6f}'.format(\n",
    "                    epoch, i * len(data), len(train_loader.dataset),\n",
    "                    100. * i / len(train_loader), loss.item()))\n",
    "train(model, train_loader, torch.optim.Adam(model.parameters(), lr=0.04), nn.BCELoss(), epochs=10)"
   ]
  },
  {
   "cell_type": "code",
   "execution_count": null,
   "metadata": {},
   "outputs": [],
   "source": []
  }
 ],
 "metadata": {
  "kernelspec": {
   "display_name": "iapr",
   "language": "python",
   "name": "python3"
  },
  "language_info": {
   "codemirror_mode": {
    "name": "ipython",
    "version": 3
   },
   "file_extension": ".py",
   "mimetype": "text/x-python",
   "name": "python",
   "nbconvert_exporter": "python",
   "pygments_lexer": "ipython3",
   "version": "3.9.18"
  }
 },
 "nbformat": 4,
 "nbformat_minor": 2
}
